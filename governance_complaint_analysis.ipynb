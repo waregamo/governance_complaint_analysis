{
 "cells": [
  {
   "cell_type": "code",
   "execution_count": 1,
   "id": "cae78b93-527b-4908-8822-38706e236159",
   "metadata": {},
   "outputs": [
    {
     "name": "stdout",
     "output_type": "stream",
     "text": [
      "Pandas loaded successfully! 🐼\n",
      "All tools loaded successfully! 🧰\n"
     ]
    }
   ],
   "source": [
    "# Import our basic tools\n",
    "import pandas as pd  # For handling data tables\n",
    "print(\"Pandas loaded successfully! 🐼\")\n",
    "\n",
    "# Check if we have the other tools we'll need later\n",
    "try:\n",
    "    import matplotlib.pyplot as plt\n",
    "    from sklearn.feature_extraction.text import TfidfVectorizer\n",
    "    print(\"All tools loaded successfully! 🧰\")\n",
    "except:\n",
    "    print(\"We're missing some tools - don't worry, we'll install them later if needed.\")"
   ]
  },
  {
   "cell_type": "code",
   "execution_count": 2,
   "id": "ed3782b2-a472-49f0-b5d3-0777841d216f",
   "metadata": {},
   "outputs": [
    {
     "name": "stdout",
     "output_type": "stream",
     "text": [
      "Data loaded successfully! 📊\n",
      "We have 162421 complaints to analyze!\n",
      "\n",
      "First 3 complaints preview:\n"
     ]
    },
    {
     "data": {
      "text/html": [
       "<div>\n",
       "<style scoped>\n",
       "    .dataframe tbody tr th:only-of-type {\n",
       "        vertical-align: middle;\n",
       "    }\n",
       "\n",
       "    .dataframe tbody tr th {\n",
       "        vertical-align: top;\n",
       "    }\n",
       "\n",
       "    .dataframe thead th {\n",
       "        text-align: right;\n",
       "    }\n",
       "</style>\n",
       "<table border=\"1\" class=\"dataframe\">\n",
       "  <thead>\n",
       "    <tr style=\"text-align: right;\">\n",
       "      <th></th>\n",
       "      <th>Unnamed: 0</th>\n",
       "      <th>product</th>\n",
       "      <th>narrative</th>\n",
       "    </tr>\n",
       "  </thead>\n",
       "  <tbody>\n",
       "    <tr>\n",
       "      <th>0</th>\n",
       "      <td>0</td>\n",
       "      <td>credit_card</td>\n",
       "      <td>purchase order day shipping amount receive pro...</td>\n",
       "    </tr>\n",
       "    <tr>\n",
       "      <th>1</th>\n",
       "      <td>1</td>\n",
       "      <td>credit_card</td>\n",
       "      <td>forwarded message date tue subject please inve...</td>\n",
       "    </tr>\n",
       "    <tr>\n",
       "      <th>2</th>\n",
       "      <td>2</td>\n",
       "      <td>retail_banking</td>\n",
       "      <td>forwarded message cc sent friday pdt subject f...</td>\n",
       "    </tr>\n",
       "  </tbody>\n",
       "</table>\n",
       "</div>"
      ],
      "text/plain": [
       "   Unnamed: 0         product  \\\n",
       "0           0     credit_card   \n",
       "1           1     credit_card   \n",
       "2           2  retail_banking   \n",
       "\n",
       "                                           narrative  \n",
       "0  purchase order day shipping amount receive pro...  \n",
       "1  forwarded message date tue subject please inve...  \n",
       "2  forwarded message cc sent friday pdt subject f...  "
      ]
     },
     "metadata": {},
     "output_type": "display_data"
    }
   ],
   "source": [
    "#Load the Data\n",
    "try:\n",
    "    complaints = pd.read_csv('complaints_processed.csv')\n",
    "    print(\"Data loaded successfully! 📊\")\n",
    "    print(f\"We have {len(complaints)} complaints to analyze!\")\n",
    "    print(\"\\nFirst 3 complaints preview:\")\n",
    "    display(complaints.head(3))  # Show a small sample\n",
    "except Exception as e:\n",
    "    print(\"Oops! Problem loading data: 😞\")\n",
    "    print(str(e))\n",
    "    print(\"\\nLet me help you fix this!\")"
   ]
  },
  {
   "cell_type": "code",
   "execution_count": 3,
   "id": "c2bd1325-d79d-4bc9-bcc5-b03f7a83fc44",
   "metadata": {},
   "outputs": [
    {
     "name": "stdout",
     "output_type": "stream",
     "text": [
      "Here are all the columns in our data:\n",
      "['Unnamed: 0', 'product', 'narrative']\n"
     ]
    }
   ],
   "source": [
    "print(\"Here are all the columns in our data:\")\n",
    "print(list(complaints.columns))"
   ]
  },
  {
   "cell_type": "code",
   "execution_count": 4,
   "id": "613570c1-10a2-4003-8d75-20d753136942",
   "metadata": {},
   "outputs": [
    {
     "name": "stdout",
     "output_type": "stream",
     "text": [
      "🔍 Revised Data Health Check:\n",
      "\n",
      "1. Missing values per column:\n",
      "Unnamed: 0     0\n",
      "product        0\n",
      "narrative     10\n",
      "dtype: int64\n",
      "\n",
      "2. Product types distribution:\n",
      "product\n",
      "credit_reporting       91179\n",
      "debt_collection        23150\n",
      "mortgages_and_loans    18990\n",
      "credit_card            15566\n",
      "retail_banking         13536\n",
      "Name: count, dtype: int64\n",
      "\n",
      "3. Sample complaint narratives:\n",
      "0    purchase order day shipping amount receive pro...\n",
      "1    forwarded message date tue subject please inve...\n",
      "2    forwarded message cc sent friday pdt subject f...\n",
      "Name: narrative, dtype: object\n"
     ]
    }
   ],
   "source": [
    "print(\"🔍 Revised Data Health Check:\")\n",
    "\n",
    "# 1. Check for missing values\n",
    "print(\"\\n1. Missing values per column:\")\n",
    "print(complaints.isnull().sum())\n",
    "\n",
    "# 2. Product types overview \n",
    "print(\"\\n2. Product types distribution:\")\n",
    "print(complaints['product'].value_counts(dropna=False))\n",
    "\n",
    "# 3. Sample narratives\n",
    "print(\"\\n3. Sample complaint narratives:\")\n",
    "print(complaints['narrative'].head(3))"
   ]
  },
  {
   "cell_type": "code",
   "execution_count": 5,
   "id": "ffb0e4e1-a0a6-44d3-9323-9af56c3386f7",
   "metadata": {},
   "outputs": [
    {
     "name": "stdout",
     "output_type": "stream",
     "text": [
      "Removed 10 rows with missing narratives\n"
     ]
    }
   ],
   "source": [
    "#Handling Missing Narratives\n",
    "# Drop rows with missing narratives \n",
    "clean_data = complaints.dropna(subset=['narrative']).copy()\n",
    "print(f\"Removed {len(complaints)-len(clean_data)} rows with missing narratives\")"
   ]
  },
  {
   "cell_type": "code",
   "execution_count": 6,
   "id": "5edcf52d-558c-4b00-b6e2-9a22efd42d9e",
   "metadata": {},
   "outputs": [
    {
     "data": {
      "image/png": "[encoded data removed]",
      "text/plain": [
       "<Figure size 1000x600 with 1 Axes>"
      ]
     },
     "metadata": {},
     "output_type": "display_data"
    }
   ],
   "source": [
    "#Analyzing Product Distribution\n",
    "# Visualize the distribution\n",
    "import matplotlib.pyplot as plt\n",
    "\n",
    "plt.figure(figsize=(10,6))\n",
    "clean_data['product'].value_counts().plot(kind='bar', \n",
    "                                        color=['#1f77b4','#ff7f0e','#2ca02c','#d62728','#9467bd'])\n",
    "plt.title(\"Complaints by Product Category\", pad=20)\n",
    "plt.xlabel(\"Product Type\")\n",
    "plt.ylabel(\"Number of Complaints\")\n",
    "plt.xticks(rotation=45, ha='right')\n",
    "plt.tight_layout()\n",
    "plt.show()"
   ]
  },
  {
   "cell_type": "code",
   "execution_count": 7,
   "id": "65ccc3bc-4397-49e7-a62d-4cb9bc5c8ab4",
   "metadata": {},
   "outputs": [
    {
     "ename": "ModuleNotFoundError",
     "evalue": "No module named 'nltk'",
     "output_type": "error",
     "traceback": [
      "\u001b[31m---------------------------------------------------------------------------\u001b[39m",
      "\u001b[31mModuleNotFoundError\u001b[39m                       Traceback (most recent call last)",
      "\u001b[36mCell\u001b[39m\u001b[36m \u001b[39m\u001b[32mIn[7]\u001b[39m\u001b[32m, line 3\u001b[39m\n\u001b[32m      1\u001b[39m \u001b[38;5;66;03m#Text Preprocessing\u001b[39;00m\n\u001b[32m      2\u001b[39m \u001b[38;5;28;01mimport\u001b[39;00m\u001b[38;5;250m \u001b[39m\u001b[34;01mre\u001b[39;00m\n\u001b[32m----> \u001b[39m\u001b[32m3\u001b[39m \u001b[38;5;28;01mimport\u001b[39;00m\u001b[38;5;250m \u001b[39m\u001b[34;01mnltk\u001b[39;00m\n\u001b[32m      4\u001b[39m \u001b[38;5;28;01mfrom\u001b[39;00m\u001b[38;5;250m \u001b[39m\u001b[34;01mnltk\u001b[39;00m\u001b[34;01m.\u001b[39;00m\u001b[34;01mcorpus\u001b[39;00m\u001b[38;5;250m \u001b[39m\u001b[38;5;28;01mimport\u001b[39;00m stopwords\n\u001b[32m      5\u001b[39m nltk.download(\u001b[33m'\u001b[39m\u001b[33mstopwords\u001b[39m\u001b[33m'\u001b[39m)\n",
      "\u001b[31mModuleNotFoundError\u001b[39m: No module named 'nltk'"
     ]
    }
   ],
   "source": [
    "#Text Preprocessing\n",
    "import re\n",
    "import nltk\n",
    "from nltk.corpus import stopwords\n",
    "nltk.download('stopwords')\n",
    "\n",
    "def clean_text(text):\n",
    "    # Convert to lowercase\n",
    "    text = text.lower()\n",
    "    # Remove special characters/numbers\n",
    "    text = re.sub(r'[^a-zA-Z\\s]', '', text)\n",
    "    # Remove extra whitespace\n",
    "    text = ' '.join(text.split())\n",
    "    # Remove stopwords\n",
    "    stop_words = set(stopwords.words('english'))\n",
    "    text = ' '.join([word for word in text.split() if word not in stop_words])\n",
    "    return text\n",
    "\n",
    "# Apply cleaning \n",
    "clean_data['clean_text'] = clean_data['narrative'].apply(clean_text)\n",
    "print(\"Text cleaning completed!\")"
   ]
  },
  {
   "cell_type": "code",
   "execution_count": null,
   "id": "9dd9ba40-43c1-4a0d-8441-0f4c4805314a",
   "metadata": {},
   "outputs": [
    {
     "name": "stdout",
     "output_type": "stream",
     "text": [
      "\n",
      "🔍 Final Data Summary:\n",
      "Total complaints: 162411\n",
      "\n",
      "Sample cleaned text:\n",
      "0    purchase order day shipping amount receive pro...\n",
      "1    forwarded message date tue subject please inve...\n",
      "2    forwarded message cc sent friday pdt subject f...\n",
      "Name: clean_text, dtype: object\n"
     ]
    }
   ],
   "source": [
    "# Final Data Check\n",
    "print(\"\\n🔍 Final Data Summary:\")\n",
    "print(f\"Total complaints: {len(clean_data)}\")\n",
    "print(\"\\nSample cleaned text:\")\n",
    "print(clean_data['clean_text'].head(3))"
   ]
  },
  {
   "cell_type": "code",
   "execution_count": null,
   "id": "3208b428-4b43-4b82-9291-0d5c7b5fca86",
   "metadata": {},
   "outputs": [
    {
     "name": "stdout",
     "output_type": "stream",
     "text": [
      "Data prepared for training!\n",
      "Training samples: 129928\n",
      "Testing samples: 32483\n",
      "Number of features: 5000\n"
     ]
    }
   ],
   "source": [
    "#Prepare Data for Training\n",
    "from sklearn.model_selection import train_test_split\n",
    "from sklearn.feature_extraction.text import TfidfVectorizer\n",
    "\n",
    "# 1. Split into features (X) and target (y)\n",
    "X = clean_data['clean_text']  # Our cleaned complaint text\n",
    "y = clean_data['product']     # The product categories we want to predict\n",
    "\n",
    "# 2. Split into training (80%) and testing (20%) sets\n",
    "X_train, X_test, y_train, y_test = train_test_split(X, y, test_size=0.2, random_state=42)\n",
    "\n",
    "# 3. Convert text to numerical features using TF-IDF\n",
    "tfidf = TfidfVectorizer(max_features=5000)  # Using top 5000 words\n",
    "X_train_tfidf = tfidf.fit_transform(X_train)\n",
    "X_test_tfidf = tfidf.transform(X_test)\n",
    "\n",
    "print(\"Data prepared for training!\")\n",
    "print(f\"Training samples: {X_train_tfidf.shape[0]}\")\n",
    "print(f\"Testing samples: {X_test_tfidf.shape[0]}\")\n",
    "print(f\"Number of features: {X_train_tfidf.shape[1]}\")"
   ]
  },
  {
   "cell_type": "code",
   "execution_count": null,
   "id": "8c9d242b-bf2e-4a7d-a259-8dea074c7b33",
   "metadata": {},
   "outputs": [
    {
     "name": "stdout",
     "output_type": "stream",
     "text": [
      "\n",
      "Model Evaluation:\n",
      "                     precision    recall  f1-score   support\n",
      "\n",
      "        credit_card       0.79      0.77      0.78      3132\n",
      "     retail_banking       0.90      0.94      0.92     18283\n",
      "   credit_reporting       0.81      0.72      0.76      4615\n",
      "mortgages_and_loans       0.86      0.82      0.84      3770\n",
      "    debt_collection       0.87      0.89      0.88      2683\n",
      "\n",
      "           accuracy                           0.87     32483\n",
      "          macro avg       0.85      0.83      0.84     32483\n",
      "       weighted avg       0.87      0.87      0.87     32483\n",
      "\n"
     ]
    }
   ],
   "source": [
    "#Train a Classification Model\n",
    "from sklearn.linear_model import LogisticRegression\n",
    "from sklearn.metrics import classification_report\n",
    "\n",
    "# 1. Initialize and train the model\n",
    "model = LogisticRegression(max_iter=1000, random_state=42)\n",
    "model.fit(X_train_tfidf, y_train)\n",
    "\n",
    "# 2. Make predictions on test set\n",
    "y_pred = model.predict(X_test_tfidf)\n",
    "\n",
    "# 3. Evaluate performance\n",
    "print(\"\\nModel Evaluation:\")\n",
    "print(classification_report(y_test, y_pred, target_names=y.unique()))"
   ]
  },
  {
   "cell_type": "code",
   "execution_count": null,
   "id": "20532575-8198-4808-9d58-5198d60ab081",
   "metadata": {
    "jupyter": {
     "source_hidden": true
    }
   },
   "outputs": [
    {
     "name": "stdout",
     "output_type": "stream",
     "text": [
      "Model saved for future use!\n"
     ]
    }
   ],
   "source": [
    "#Save the Model\n",
    "import joblib\n",
    "\n",
    "# Save the model and vectorizer\n",
    "joblib.dump(model, 'complaint_classifier.joblib')\n",
    "joblib.dump(tfidf, 'tfidf_vectorizer.joblib')\n",
    "\n",
    "print(\"Model saved for future use!\")"
   ]
  },
  {
   "cell_type": "code",
   "execution_count": null,
   "id": "b4331340-4190-4450-9ed9-01a7f5e9e5d0",
   "metadata": {},
   "outputs": [
    {
     "name": "stdout",
     "output_type": "stream",
     "text": [
      "Predicted category: credit_reporting\n"
     ]
    }
   ],
   "source": [
    "#Create a Demo\n",
    "ef predict_complaint_type(new_complaint):\n",
    "    cleaned = clean_text(new_complaint)\n",
    "    vectorized = tfidf.transform([cleaned])\n",
    "    return model.predict(vectorized)[0]\n",
    "\n",
    "# Test with a new complaint\n",
    "test_complaint = \"The credit bureau reported incorrect information on my credit score\"\n",
    "print(f\"Predicted category: {predict_complaint_type(test_complaint)}\")"
   ]
  }
 ],
 "metadata": {
  "kernelspec": {
   "display_name": "Python 3",
   "language": "python",
   "name": "python3"
  },
  "language_info": {
   "codemirror_mode": {
    "name": "ipython",
    "version": 3
   },
   "file_extension": ".py",
   "mimetype": "text/x-python",
   "name": "python",
   "nbconvert_exporter": "python",
   "pygments_lexer": "ipython3",
   "version": "3.13.3"
  }
 },
 "nbformat": 4,
 "nbformat_minor": 5
}
